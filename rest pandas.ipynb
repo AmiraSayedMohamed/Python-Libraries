{
 "cells": [
  {
   "cell_type": "code",
   "execution_count": 7,
   "id": "0da4805b-8726-464b-9fd8-b5f9966f27ed",
   "metadata": {},
   "outputs": [],
   "source": [
    "import pandas as pd"
   ]
  },
  {
   "cell_type": "code",
   "execution_count": 17,
   "id": "f3850a29-2e85-4dcc-bad8-213149aca044",
   "metadata": {},
   "outputs": [
    {
     "data": {
      "text/html": [
       "<div>\n",
       "<style scoped>\n",
       "    .dataframe tbody tr th:only-of-type {\n",
       "        vertical-align: middle;\n",
       "    }\n",
       "\n",
       "    .dataframe tbody tr th {\n",
       "        vertical-align: top;\n",
       "    }\n",
       "\n",
       "    .dataframe thead th {\n",
       "        text-align: right;\n",
       "    }\n",
       "</style>\n",
       "<table border=\"1\" class=\"dataframe\">\n",
       "  <thead>\n",
       "    <tr style=\"text-align: right;\">\n",
       "      <th></th>\n",
       "      <th>population</th>\n",
       "    </tr>\n",
       "  </thead>\n",
       "  <tbody>\n",
       "    <tr>\n",
       "      <th>0</th>\n",
       "      <td>7655695</td>\n",
       "    </tr>\n",
       "    <tr>\n",
       "      <th>1</th>\n",
       "      <td>633894</td>\n",
       "    </tr>\n",
       "    <tr>\n",
       "      <th>2</th>\n",
       "      <td>23434</td>\n",
       "    </tr>\n",
       "    <tr>\n",
       "      <th>3</th>\n",
       "      <td>342353</td>\n",
       "    </tr>\n",
       "    <tr>\n",
       "      <th>4</th>\n",
       "      <td>46567</td>\n",
       "    </tr>\n",
       "  </tbody>\n",
       "</table>\n",
       "</div>"
      ],
      "text/plain": [
       "   population\n",
       "0     7655695\n",
       "1      633894\n",
       "2       23434\n",
       "3      342353\n",
       "4       46567"
      ]
     },
     "execution_count": 17,
     "metadata": {},
     "output_type": "execute_result"
    }
   ],
   "source": [
    "pd.DataFrame(\n",
    "    {'population' : [7655695, 633894, 23434, 342353, 46567]})"
   ]
  },
  {
   "cell_type": "code",
   "execution_count": 21,
   "id": "4d734dbf-9932-4bf2-a8e5-ba61833ca612",
   "metadata": {},
   "outputs": [
    {
     "data": {
      "text/html": [
       "<div>\n",
       "<style scoped>\n",
       "    .dataframe tbody tr th:only-of-type {\n",
       "        vertical-align: middle;\n",
       "    }\n",
       "\n",
       "    .dataframe tbody tr th {\n",
       "        vertical-align: top;\n",
       "    }\n",
       "\n",
       "    .dataframe thead th {\n",
       "        text-align: right;\n",
       "    }\n",
       "</style>\n",
       "<table border=\"1\" class=\"dataframe\">\n",
       "  <thead>\n",
       "    <tr style=\"text-align: right;\">\n",
       "      <th></th>\n",
       "      <th>population</th>\n",
       "      <th>area</th>\n",
       "    </tr>\n",
       "  </thead>\n",
       "  <tbody>\n",
       "    <tr>\n",
       "      <th>0</th>\n",
       "      <td>7655695</td>\n",
       "      <td>234</td>\n",
       "    </tr>\n",
       "    <tr>\n",
       "      <th>1</th>\n",
       "      <td>633894</td>\n",
       "      <td>34</td>\n",
       "    </tr>\n",
       "    <tr>\n",
       "      <th>2</th>\n",
       "      <td>23434</td>\n",
       "      <td>343</td>\n",
       "    </tr>\n",
       "    <tr>\n",
       "      <th>3</th>\n",
       "      <td>342353</td>\n",
       "      <td>234</td>\n",
       "    </tr>\n",
       "    <tr>\n",
       "      <th>4</th>\n",
       "      <td>46567</td>\n",
       "      <td>46</td>\n",
       "    </tr>\n",
       "  </tbody>\n",
       "</table>\n",
       "</div>"
      ],
      "text/plain": [
       "   population  area\n",
       "0     7655695   234\n",
       "1      633894    34\n",
       "2       23434   343\n",
       "3      342353   234\n",
       "4       46567    46"
      ]
     },
     "execution_count": 21,
     "metadata": {},
     "output_type": "execute_result"
    }
   ],
   "source": [
    "pd.DataFrame(\n",
    "    {'population' : [7655695, 633894, 23434, 342353, 46567],\n",
    "    'area': [234, 34, 343 , 234, 46 ]\n",
    "    \n",
    "    })"
   ]
  },
  {
   "cell_type": "code",
   "execution_count": 13,
   "id": "5f2cc2f3-6bef-48a3-8848-256878066601",
   "metadata": {},
   "outputs": [
    {
     "name": "stdout",
     "output_type": "stream",
     "text": [
      "ismailia       202\n",
      "cairo         2342\n",
      "monofia        343\n",
      "alexandria      87\n",
      "dtype: int64\n"
     ]
    },
    {
     "data": {
      "text/html": [
       "<div>\n",
       "<style scoped>\n",
       "    .dataframe tbody tr th:only-of-type {\n",
       "        vertical-align: middle;\n",
       "    }\n",
       "\n",
       "    .dataframe tbody tr th {\n",
       "        vertical-align: top;\n",
       "    }\n",
       "\n",
       "    .dataframe thead th {\n",
       "        text-align: right;\n",
       "    }\n",
       "</style>\n",
       "<table border=\"1\" class=\"dataframe\">\n",
       "  <thead>\n",
       "    <tr style=\"text-align: right;\">\n",
       "      <th></th>\n",
       "      <th>population</th>\n",
       "      <th>area</th>\n",
       "    </tr>\n",
       "  </thead>\n",
       "  <tbody>\n",
       "    <tr>\n",
       "      <th>ismailia</th>\n",
       "      <td>1000000</td>\n",
       "      <td>202</td>\n",
       "    </tr>\n",
       "    <tr>\n",
       "      <th>cairo</th>\n",
       "      <td>15000000</td>\n",
       "      <td>2342</td>\n",
       "    </tr>\n",
       "    <tr>\n",
       "      <th>monofia</th>\n",
       "      <td>20000000</td>\n",
       "      <td>343</td>\n",
       "    </tr>\n",
       "    <tr>\n",
       "      <th>alexandria</th>\n",
       "      <td>3984395335</td>\n",
       "      <td>87</td>\n",
       "    </tr>\n",
       "  </tbody>\n",
       "</table>\n",
       "</div>"
      ],
      "text/plain": [
       "            population  area\n",
       "ismailia       1000000   202\n",
       "cairo         15000000  2342\n",
       "monofia       20000000   343\n",
       "alexandria  3984395335    87"
      ]
     },
     "execution_count": 13,
     "metadata": {},
     "output_type": "execute_result"
    }
   ],
   "source": [
    "population_dict = {\n",
    "    'ismailia' : 1000000,\n",
    "    'cairo' : 15000000,\n",
    "    'monofia' : 20000000,\n",
    "    'alexandria' : 3984395335\n",
    "}\n",
    "\n",
    "population = pd.Series(population_dict)\n",
    "\n",
    "area_dict = {\n",
    "    'ismailia' : 202,\n",
    "    'cairo' : 2342,\n",
    "    'monofia' : 343,\n",
    "    'alexandria' : 87\n",
    "}\n",
    "\n",
    "area = pd.Series(area_dict)\n",
    "print(area)\n",
    "pd.DataFrame(\n",
    "    {\n",
    "        'population' : population,\n",
    "         'area': area\n",
    "    })"
   ]
  },
  {
   "cell_type": "markdown",
   "id": "564dff2b-49d1-4d0f-9df8-d10e5ba5e3aa",
   "metadata": {},
   "source": [
    "# Loading data into Pandas"
   ]
  },
  {
   "cell_type": "code",
   "execution_count": 26,
   "id": "4487c1d7-e99b-47d5-9d46-95e2e0c61e65",
   "metadata": {},
   "outputs": [],
   "source": [
    "df = pd.read_csv('pokemo_data.csv')\n",
    "df"
   ]
  },
  {
   "cell_type": "code",
   "execution_count": null,
   "id": "6e79ba4f-c19f-4846-bea4-a4960a6773a6",
   "metadata": {},
   "outputs": [],
   "source": [
    "df.head(5)"
   ]
  },
  {
   "cell_type": "code",
   "execution_count": null,
   "id": "64ecefe5-4195-434c-bd2f-b1fb62ece4b9",
   "metadata": {},
   "outputs": [],
   "source": [
    "df_xlsx = pd.read_excel('pokemon_data.xlsx')\n",
    "df_xlsx"
   ]
  },
  {
   "cell_type": "code",
   "execution_count": null,
   "id": "ea04a2a3-804d-4a4a-aba8-4b3c2c356fa3",
   "metadata": {},
   "outputs": [],
   "source": [
    "df_xlsx.head(5)"
   ]
  },
  {
   "cell_type": "code",
   "execution_count": null,
   "id": "15d84330-53c2-4f04-9247-8dbf8017dd00",
   "metadata": {},
   "outputs": [],
   "source": [
    "df = pd.read_csv('pokemo_data.txt')\n",
    "df"
   ]
  },
  {
   "cell_type": "code",
   "execution_count": null,
   "id": "b97e92b2-5abd-4190-b39f-52d2e46d6554",
   "metadata": {},
   "outputs": [],
   "source": [
    "df = pd.read_csv('pokemo_data.txt', delimiter='\\t')\n",
    "df"
   ]
  },
  {
   "cell_type": "markdown",
   "id": "814c2e41-24e5-4e19-82ab-d1b302e2ae04",
   "metadata": {},
   "source": [
    "# Reading Data in Pandas"
   ]
  },
  {
   "cell_type": "code",
   "execution_count": null,
   "id": "26af9daa-1a15-49b8-8004-98dc0fd7a539",
   "metadata": {},
   "outputs": [],
   "source": [
    "df = pd.read_csv('pokemo_data.csv')\n",
    "\n",
    "# Read headers\n",
    "df.columns\n",
    "\n",
    "# Read each Column\n",
    "\n",
    "# print(df['Name'])\n",
    "# print(df['Name'][0:5)\n",
    "# print(df[['Name', 'Type 1', 'HP']])\n",
    "\n",
    "# Read each Row\n",
    "\n",
    "# print(df.head(4))\n",
    "# print(df.iloc[1])\n",
    "# print(df.iloc[1:4])\n",
    "# print(df.iloc[0:4])\n",
    "\n",
    "#print('-----after read a specific-------print(df.iloc[2,1])--------------------')\n",
    "# for index, row in df.iterrows():\n",
    "#     print(index, row['Name')\n",
    "df.loc[df['type 1'] == \"Fire\"]\n",
    "df.loc[df['type 1'] == \"Grass\"]\n",
    "    \n",
    "# Read a specific location (R, c)\n",
    "\n",
    "# print(df.iloc[2,1])"
   ]
  },
  {
   "cell_type": "markdown",
   "id": "20011383-b371-4d79-9149-63567e603045",
   "metadata": {},
   "source": [
    "# Sorting/Describing Data"
   ]
  },
  {
   "cell_type": "code",
   "execution_count": null,
   "id": "10b88843-3dd4-4fc2-8b64-d86e71597988",
   "metadata": {},
   "outputs": [],
   "source": [
    "df.describe()"
   ]
  },
  {
   "cell_type": "code",
   "execution_count": null,
   "id": "6858c8f2-bded-40cb-a761-d4f8e1ac8d05",
   "metadata": {},
   "outputs": [],
   "source": [
    "df.sort_values('Name', ascending=False)"
   ]
  },
  {
   "cell_type": "code",
   "execution_count": null,
   "id": "5005d6e2-fcd8-43b1-90c3-383824a78374",
   "metadata": {},
   "outputs": [],
   "source": [
    "df.sort_values(['Type 1', 'HP'], ascending=True)"
   ]
  },
  {
   "cell_type": "code",
   "execution_count": null,
   "id": "966fabde-7cae-4702-980f-c8c8d303d123",
   "metadata": {},
   "outputs": [],
   "source": [
    "df.sort_values(['Type 1', 'HP'], ascending=False)"
   ]
  },
  {
   "cell_type": "code",
   "execution_count": null,
   "id": "d216ed5a-9fb5-4b44-96ca-bd383217c8bc",
   "metadata": {},
   "outputs": [],
   "source": [
    "df.sort_values(['Type 1', 'HP'], ascending=[1, 0])"
   ]
  },
  {
   "cell_type": "markdown",
   "id": "4e5f6508-f5b9-46a7-999f-abf918ab9de8",
   "metadata": {},
   "source": [
    "# Making changes to the data"
   ]
  },
  {
   "cell_type": "code",
   "execution_count": null,
   "id": "0ece8dd6-a33f-45db-9984-fe852b53b681",
   "metadata": {},
   "outputs": [],
   "source": [
    "df.head(5)"
   ]
  },
  {
   "cell_type": "code",
   "execution_count": null,
   "id": "bd36c0b5-fe83-49f9-9db1-dc383c9fdc6e",
   "metadata": {},
   "outputs": [],
   "source": [
    "# df['Total'] = df['HP'] + df['Attack'] + df['Defense'] + df['Sp. Atk'] + df['Sp. Def'] + df['Speed']\n",
    "\n",
    "# df.drop(columns=['Total'])\n",
    "# df['Total'] = df.iloc[:, 4:9].sum(axis=1)\n",
    "# df['Total'] = df.iloc[:, 4:10].sum(axis=1\n",
    "\n",
    "cols = list(df.columns.values)\n",
    "# df = df[cols[0:4] + cols[-1]\n",
    "df = df[cols[0:4] + [cols[-1]] + cols[4:12]]"
   ]
  },
  {
   "cell_type": "code",
   "execution_count": null,
   "id": "82400b1d-5c2d-4bdf-9334-e06c5d83862c",
   "metadata": {},
   "outputs": [],
   "source": [
    "df.head(5)"
   ]
  },
  {
   "cell_type": "markdown",
   "id": "fe246e0b-6b51-4c6b-b891-cf4abd2650bc",
   "metadata": {},
   "source": [
    "# Saving our Data (Exporting into Desired Format)"
   ]
  },
  {
   "cell_type": "code",
   "execution_count": null,
   "id": "54f40d9d-5ab0-4d49-98db-d500b3d15b0d",
   "metadata": {},
   "outputs": [],
   "source": [
    "# df._to_csv('modifies.csv', index=False)\n",
    "df.to_excel('modified.xlsx', index=False)\n",
    "df.to_csv('modified.txt', index=False, sep='\\t')\n",
    "\n"
   ]
  },
  {
   "cell_type": "markdown",
   "id": "2637d48f-8879-48e8-8407-1fcc688abf1e",
   "metadata": {},
   "source": [
    "# Filtering Data"
   ]
  },
  {
   "cell_type": "code",
   "execution_count": null,
   "id": "6cf45cd1-8928-4466-83b1-dab8560ca621",
   "metadata": {},
   "outputs": [],
   "source": [
    "# df.loc[(df['Type 1'] == 'Grass') & (df['Type 2'] == 'Poison')]\n",
    "# df.loc[(df['Type 1'] == 'Grass') and (df['Type 2'] == 'Poison')]\n",
    "# df.loc[(df['Type 1'] == 'Grass') | (df['Type 2'] == 'Poison')]\n",
    "\n",
    "new_df = df.loc[(df['Type 1'] == 'Grass') & (df['Type 2'] == 'Poison') & (df['HP'] > 70)]\n",
    "# new_df.to_csv('filtered')\n",
    "new_df = new_df.reset_index(drop=True, inplace=True)\n",
    "new_df"
   ]
  },
  {
   "cell_type": "code",
   "execution_count": null,
   "id": "27a53a70-dd2f-4c70-9d7a-c4fb6ba0cf40",
   "metadata": {},
   "outputs": [],
   "source": [
    "df.loc[df['Name'].str.contains('Mega')]\n"
   ]
  },
  {
   "cell_type": "code",
   "execution_count": null,
   "id": "81ac4b0f-7d24-4c38-b07c-fe24a5d7d828",
   "metadata": {},
   "outputs": [],
   "source": [
    "import re\n",
    "\n",
    "df.loc[df['Type 1'].str.contains('fire|Grass', regex=True)]\n",
    "df.loc[df['Type 1'].str.contains('fire|Grass',flags=re.I,  regex=True)]\n",
    "df.loc[df['Type 1'].str.contains('^pi[a-z]*',flags=re.I,  regex=True)]"
   ]
  },
  {
   "cell_type": "markdown",
   "id": "26f09ab8-7514-4d7f-b999-55c47b51cb0f",
   "metadata": {},
   "source": [
    "# Conditional Changes"
   ]
  },
  {
   "cell_type": "code",
   "execution_count": null,
   "id": "5f32dfb6-56dd-4275-91a3-f13534ffaf91",
   "metadata": {},
   "outputs": [],
   "source": [
    "df.loc[df['Type 1'] == 'Fire', 'Type 1'] = 'Flamer'\n",
    "df"
   ]
  },
  {
   "cell_type": "code",
   "execution_count": null,
   "id": "9ced3c6f-6e83-428b-aff9-edc7ee40b0ea",
   "metadata": {},
   "outputs": [],
   "source": [
    "df.loc(df['Type 1'] == 'Fire', 'legendary'] = True\n",
    "df"
   ]
  },
  {
   "cell_type": "code",
   "execution_count": null,
   "id": "47f1a3f9-96a4-4cbf-b85c-8005ee913c98",
   "metadata": {},
   "outputs": [],
   "source": [
    "df = pd.read_csv('modified.csv')\n",
    "df\n"
   ]
  },
  {
   "cell_type": "code",
   "execution_count": null,
   "id": "51d900fe-bb4a-4bcf-a45f-84f706febac6",
   "metadata": {},
   "outputs": [],
   "source": [
    "df.loc[df['Total'] > 500, ['Generation', 'Legendary']] = 'TEST VALUE'\n",
    "df"
   ]
  },
  {
   "cell_type": "code",
   "execution_count": null,
   "id": "870e114e-c92e-4627-8509-a6a681b7939f",
   "metadata": {},
   "outputs": [],
   "source": [
    "df.loc[df['Total'] > 500, ['Generation', 'Legendary']] = ['Test 1', 'Test 2']\n",
    "df"
   ]
  },
  {
   "cell_type": "code",
   "execution_count": null,
   "id": "8a2b4462-abf7-4c0a-b391-b71a494ebbdf",
   "metadata": {},
   "outputs": [],
   "source": [
    "df = pd.read_csv('modified.csv')"
   ]
  },
  {
   "cell_type": "markdown",
   "id": "6f534bd8-0c3c-4191-99e3-50c7d11dd2a8",
   "metadata": {},
   "source": [
    "# Aggregate Statistics (Groupy)"
   ]
  },
  {
   "cell_type": "code",
   "execution_count": null,
   "id": "5042d215-b762-4ddc-8b63-180e828b018c",
   "metadata": {},
   "outputs": [],
   "source": [
    "df = pd.read_csv('modified.csv')\n",
    "df.groupby(['Type 1']).mean().sort_values('Defense', ascending=False)\n",
    "df.groupby(['Type 1']).mean().sort_values('Attack', ascending=False)"
   ]
  },
  {
   "cell_type": "code",
   "execution_count": null,
   "id": "eb9f35e2-0037-4fc0-b0d9-13e4a539fe96",
   "metadata": {},
   "outputs": [],
   "source": [
    "df = pd.read_csv('modified.csv')\n",
    "df.groupby(['Type 1']).sum()\n",
    "df.groupby(['Type 1']).count()"
   ]
  },
  {
   "cell_type": "code",
   "execution_count": null,
   "id": "553480aa-dc60-4934-a818-c60150fb2d80",
   "metadata": {},
   "outputs": [],
   "source": [
    "df = pd.read_csv('modified.csv')\n",
    "df['count'] = 1\n",
    "\n",
    "df.groupby(['Type 1').count()['count']\n",
    "df.groupby(['Type 1', 'Type 2']).count()['count']"
   ]
  },
  {
   "cell_type": "markdown",
   "id": "5e580a64-b58a-4d8d-9313-3c92dc2a65f3",
   "metadata": {},
   "source": [
    "# Working with large amounts of data"
   ]
  },
  {
   "cell_type": "code",
   "execution_count": null,
   "id": "862dca1a-f820-4531-a945-d7ebd6b4eb86",
   "metadata": {},
   "outputs": [],
   "source": [
    "new_df = pd.DataFrame(columns=df.columns)\n",
    "\n",
    "for df in pd.read_csv('modified.csv', chunksize=5):\n",
    "    results = df.groupby('Type 1']).count()\n",
    "    new_df = pd.concat([new_df, results])"
   ]
  }
 ],
 "metadata": {
  "kernelspec": {
   "display_name": "Python 3 (ipykernel)",
   "language": "python",
   "name": "python3"
  },
  "language_info": {
   "codemirror_mode": {
    "name": "ipython",
    "version": 3
   },
   "file_extension": ".py",
   "mimetype": "text/x-python",
   "name": "python",
   "nbconvert_exporter": "python",
   "pygments_lexer": "ipython3",
   "version": "3.12.4"
  }
 },
 "nbformat": 4,
 "nbformat_minor": 5
}

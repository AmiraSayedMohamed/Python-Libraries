{
 "cells": [
  {
   "cell_type": "markdown",
   "id": "dd33a062-7497-42ae-ae69-66f42a2d2cc6",
   "metadata": {},
   "source": [
    "# Learn Numpy\n"
   ]
  },
  {
   "cell_type": "code",
   "execution_count": 9,
   "id": "d4607877-f321-4a2c-9bca-7b3fb0026d01",
   "metadata": {},
   "outputs": [],
   "source": [
    "import numpy as np"
   ]
  },
  {
   "cell_type": "code",
   "execution_count": 212,
   "id": "40c2dca3-4521-45f8-9d12-42a21087cdaf",
   "metadata": {},
   "outputs": [
    {
     "name": "stdout",
     "output_type": "stream",
     "text": [
      "[1, 2, 3, 4, 5]\n",
      "2\n",
      "[2, 3, 4]\n",
      "5\n"
     ]
    }
   ],
   "source": [
    "a = [1, 2, 3, 4 ,5]\n",
    "print(a)\n",
    "print(a[1])\n",
    "print(a[1:4])\n",
    "print(a[-1])\n"
   ]
  },
  {
   "cell_type": "code",
   "execution_count": 18,
   "id": "57991150-5630-4f30-a06f-e26a87ebee3c",
   "metadata": {},
   "outputs": [
    {
     "name": "stdout",
     "output_type": "stream",
     "text": [
      "[1 2 3 4 5 6]\n",
      "<class 'numpy.ndarray'>\n",
      "2\n",
      "[2 3 4 5 6]\n",
      "[1 2 3 4]\n"
     ]
    }
   ],
   "source": [
    "a = np.array([1,2,3, 4, 5,6])\n",
    "print(a)\n",
    "print(type(a))\n",
    "print(a[1])\n",
    "print(a[1:])\n",
    "print(a[:-2])\n",
    "      "
   ]
  },
  {
   "cell_type": "code",
   "execution_count": 22,
   "id": "9c0e457b-45b9-479d-bdd5-2e5d783eeb1a",
   "metadata": {},
   "outputs": [
    {
     "name": "stdout",
     "output_type": "stream",
     "text": [
      "[ 1  2 10  4  5  6]\n"
     ]
    }
   ],
   "source": [
    "a[2] = 10\n",
    "print(a)"
   ]
  },
  {
   "cell_type": "code",
   "execution_count": 250,
   "id": "f4091609-75b0-4343-a277-edd1eca31829",
   "metadata": {},
   "outputs": [
    {
     "name": "stdout",
     "output_type": "stream",
     "text": [
      "a_1d.ndim :  1\n",
      "a_2d.ndim :  2\n",
      "ar.ndim :  2\n",
      "am.ndim :  2\n",
      "a_3d :  3\n",
      "al :  3\n"
     ]
    }
   ],
   "source": [
    "import numpy as np\n",
    "\n",
    "a_1d = np.array([1, 2, 3])  # 1D array\n",
    "a_2d = np.array([[1, 2, 3], [4, 5, 6]])  # 2D array\n",
    "ar = np.array([[1, 2, 3], [4, 5, 6], [7, 8, 9]])  # 2D array\n",
    "am = np.array([[1, 2, 3], [4, 5, 6],[7, 8, 9], [10, 11, 12]])  # 2D array\n",
    "a_3d = np.array([[[1, 2], [3, 4]],\n",
    "                [[5, 6], [7, 8]]\n",
    "])  # 3D array\n",
    "al = np.array([\n",
    "    [[1, 2], [3, 4]],\n",
    "    [[1, 2], [3, 4]],\n",
    "    [[5, 6], [7, 8]]\n",
    "])  # 3D array\n",
    "\n",
    "print(\"a_1d.ndim : \", a_1d.ndim)  # Output: 1\n",
    "print(\"a_2d.ndim : \",a_2d.ndim)  # Output: 2\n",
    "print(\"ar.ndim : \",ar.ndim)\n",
    "print(\"am.ndim : \",am.ndim)\n",
    "print(\"a_3d : \", a_3d.ndim)  # Output: 3\n",
    "print(\"al : \", al.ndim)"
   ]
  },
  {
   "cell_type": "code",
   "execution_count": 11,
   "id": "5653136e-7d60-422e-b76b-415b304d9ace",
   "metadata": {},
   "outputs": [
    {
     "name": "stdout",
     "output_type": "stream",
     "text": [
      "[1 2 3]\n",
      "2\n"
     ]
    }
   ],
   "source": [
    "a_mul = np.array([\n",
    "    [1, 2, 3],\n",
    "    [4, 5 ,6],\n",
    "    [7, 8, 9]\n",
    "])\n",
    "print(a_mul[0])\n",
    "print(a_mul[0, 1])"
   ]
  },
  {
   "cell_type": "code",
   "execution_count": 13,
   "id": "88c0e81a-ff43-4fad-810b-a027f4581d52",
   "metadata": {},
   "outputs": [
    {
     "name": "stdout",
     "output_type": "stream",
     "text": [
      "(3, 3)\n"
     ]
    }
   ],
   "source": [
    "print(a_mul.shape)"
   ]
  },
  {
   "cell_type": "code",
   "execution_count": 15,
   "id": "fe19f16c-b331-4a9f-8208-28c9f94edc8b",
   "metadata": {},
   "outputs": [
    {
     "name": "stdout",
     "output_type": "stream",
     "text": [
      "2\n"
     ]
    }
   ],
   "source": [
    "print(a_mul.ndim)"
   ]
  },
  {
   "cell_type": "code",
   "execution_count": 17,
   "id": "74f2bf71-bf23-4c40-90e4-d101536c677b",
   "metadata": {},
   "outputs": [
    {
     "name": "stdout",
     "output_type": "stream",
     "text": [
      "9\n"
     ]
    }
   ],
   "source": [
    "print(a_mul.size)"
   ]
  },
  {
   "cell_type": "code",
   "execution_count": 19,
   "id": "4c17e369-acd1-4a56-9773-b58b5094d682",
   "metadata": {},
   "outputs": [
    {
     "name": "stdout",
     "output_type": "stream",
     "text": [
      "int32\n"
     ]
    }
   ],
   "source": [
    "print(a_mul.dtype)"
   ]
  },
  {
   "cell_type": "code",
   "execution_count": 254,
   "id": "f433cb2c-05f0-45e7-9b7b-fd0d1476bd88",
   "metadata": {},
   "outputs": [
    {
     "name": "stdout",
     "output_type": "stream",
     "text": [
      "<U11\n",
      "<class 'numpy.str_'>\n"
     ]
    }
   ],
   "source": [
    "a = np.array([\n",
    "    [1, 2, 3],\n",
    "    [4, \"hello\" ,6],\n",
    "    [7, 8, 9]\n",
    "])\n",
    "\n",
    "print(a.dtype)\n",
    "print(type(a[0][0]))"
   ]
  },
  {
   "cell_type": "code",
   "execution_count": 29,
   "id": "d3de776b-cb58-424d-ad9f-6fadb7c55242",
   "metadata": {},
   "outputs": [
    {
     "name": "stdout",
     "output_type": "stream",
     "text": [
      "int32\n",
      "int32\n"
     ]
    }
   ],
   "source": [
    "a = np.array([\n",
    "    [1, 2, 3],\n",
    "    [4, \"5\" ,6],\n",
    "    [7, 8, 9]], dtype=np.int32\n",
    ")\n",
    "print(a.dtype)\n",
    "print(a[0][0].dtype)\n"
   ]
  },
  {
   "cell_type": "code",
   "execution_count": 33,
   "id": "16c3ebb1-1f70-4f3b-a71f-354caa6869c5",
   "metadata": {},
   "outputs": [
    {
     "name": "stdout",
     "output_type": "stream",
     "text": [
      "float32\n",
      "float32\n",
      "5.0\n"
     ]
    }
   ],
   "source": [
    "a = np.array([\n",
    "    [1, 2, 3],\n",
    "    [4, \"5\" ,6],\n",
    "    [7, 8, 9]], dtype=np.float32\n",
    ")\n",
    "\n",
    "print(a.dtype)\n",
    "print(a[1][1].dtype)\n",
    "print(a[1,1])"
   ]
  },
  {
   "cell_type": "code",
   "execution_count": 37,
   "id": "d90cefc3-6e2d-4182-905d-2ea5d0f557c8",
   "metadata": {},
   "outputs": [
    {
     "name": "stdout",
     "output_type": "stream",
     "text": [
      "[[[9 9 9 9]\n",
      "  [9 9 9 9]\n",
      "  [9 9 9 9]]\n",
      "\n",
      " [[9 9 9 9]\n",
      "  [9 9 9 9]\n",
      "  [9 9 9 9]]]\n"
     ]
    }
   ],
   "source": [
    "a = np.full((2, 3, 4), 9)\n",
    "print(a)"
   ]
  },
  {
   "cell_type": "code",
   "execution_count": 39,
   "id": "f057dbc7-19ee-4650-9045-c5ce7de2baf8",
   "metadata": {},
   "outputs": [
    {
     "name": "stdout",
     "output_type": "stream",
     "text": [
      "[[[0. 0. 0. 0. 0.]\n",
      "  [0. 0. 0. 0. 0.]\n",
      "  [0. 0. 0. 0. 0.]\n",
      "  [0. 0. 0. 0. 0.]]\n",
      "\n",
      " [[0. 0. 0. 0. 0.]\n",
      "  [0. 0. 0. 0. 0.]\n",
      "  [0. 0. 0. 0. 0.]\n",
      "  [0. 0. 0. 0. 0.]]\n",
      "\n",
      " [[0. 0. 0. 0. 0.]\n",
      "  [0. 0. 0. 0. 0.]\n",
      "  [0. 0. 0. 0. 0.]\n",
      "  [0. 0. 0. 0. 0.]]]\n"
     ]
    }
   ],
   "source": [
    "a = np.zeros((3, 4, 5))\n",
    "print(a)"
   ]
  },
  {
   "cell_type": "code",
   "execution_count": 41,
   "id": "71b4dfc5-8196-4b36-847a-dd5336775af3",
   "metadata": {},
   "outputs": [
    {
     "name": "stdout",
     "output_type": "stream",
     "text": [
      "[[[1. 1. 1. 1.]\n",
      "  [1. 1. 1. 1.]\n",
      "  [1. 1. 1. 1.]]\n",
      "\n",
      " [[1. 1. 1. 1.]\n",
      "  [1. 1. 1. 1.]\n",
      "  [1. 1. 1. 1.]]]\n"
     ]
    }
   ],
   "source": [
    "a = np.ones((2, 3, 4))\n",
    "print(a)"
   ]
  },
  {
   "cell_type": "code",
   "execution_count": 45,
   "id": "6391c43b-685e-4849-a92d-721d55f094e9",
   "metadata": {},
   "outputs": [
    {
     "name": "stdout",
     "output_type": "stream",
     "text": [
      "[[[6.23042070e-307 4.67296746e-307 1.08521774e-311]\n",
      "  [1.08521774e-311 1.08522462e-311 1.08521774e-311]\n",
      "  [1.08521774e-311 1.08521774e-311 1.08521774e-311]]\n",
      "\n",
      " [[1.08521774e-311 1.08521774e-311 1.08521774e-311]\n",
      "  [1.08521774e-311 1.08522462e-311 1.08521774e-311]\n",
      "  [1.08520567e-311 1.08522462e-311 1.08521774e-311]]\n",
      "\n",
      " [[1.08522292e-311 1.08521774e-311 1.08521774e-311]\n",
      "  [0.00000000e+000 0.00000000e+000 0.00000000e+000]\n",
      "  [0.00000000e+000 0.00000000e+000 3.91792476e-317]]]\n"
     ]
    }
   ],
   "source": [
    "a = np.empty((3, 3, 3))\n",
    "print(a)"
   ]
  },
  {
   "cell_type": "code",
   "execution_count": 256,
   "id": "0f942d7f-50e0-4986-8f98-2e520f333aab",
   "metadata": {},
   "outputs": [
    {
     "name": "stdout",
     "output_type": "stream",
     "text": [
      "[  0   5  10  15  20  25  30  35  40  45  50  55  60  65  70  75  80  85\n",
      "  90  95 100 105 110 115 120 125 130 135 140 145 150 155 160 165 170 175\n",
      " 180 185 190 195 200 205 210 215 220 225 230 235 240 245 250 255 260 265\n",
      " 270 275 280 285 290 295 300 305 310 315 320 325 330 335 340 345 350 355\n",
      " 360 365 370 375 380 385 390 395 400 405 410 415 420 425 430 435 440 445\n",
      " 450 455 460 465 470 475 480 485 490 495 500 505 510 515 520 525 530 535\n",
      " 540 545 550 555 560 565 570 575 580 585 590 595 600 605 610 615 620 625\n",
      " 630 635 640 645 650 655 660 665 670 675 680 685 690 695 700 705 710 715\n",
      " 720 725 730 735 740 745 750 755 760 765 770 775 780 785 790 795 800 805\n",
      " 810 815 820 825 830 835 840 845 850 855 860 865 870 875 880 885 890 895\n",
      " 900 905 910 915 920 925 930 935 940 945 950 955 960 965 970 975 980 985\n",
      " 990 995]\n",
      "---------------------------------------\n",
      "[   0. 1000.]\n"
     ]
    }
   ],
   "source": [
    "x_values = np.arange(0, 1000, 5)\n",
    "print(x_values)\n",
    "\n",
    "print(\"---------------------------------------\")\n",
    "\n",
    "x_values = np.linspace(0, 1000, 2)\n",
    "print(x_values)"
   ]
  },
  {
   "cell_type": "code",
   "execution_count": 51,
   "id": "1b1b7571-d32f-45cd-ba7c-8fa6d0a5cf0e",
   "metadata": {},
   "outputs": [
    {
     "name": "stdout",
     "output_type": "stream",
     "text": [
      "nan\n",
      "inf\n"
     ]
    }
   ],
   "source": [
    "print(np.nan)\n",
    "print(np.inf)"
   ]
  },
  {
   "cell_type": "code",
   "execution_count": 53,
   "id": "6f2d7e95-ea4a-4b43-bdd0-2a6cf047f539",
   "metadata": {},
   "outputs": [
    {
     "name": "stdout",
     "output_type": "stream",
     "text": [
      "True\n",
      "True\n"
     ]
    }
   ],
   "source": [
    "print(np.isnan(np.nan))\n",
    "print(np.isinf(np.inf))"
   ]
  },
  {
   "cell_type": "code",
   "execution_count": 258,
   "id": "fdbb3189-d4c9-4538-8a76-68c47ac716c3",
   "metadata": {},
   "outputs": [
    {
     "name": "stdout",
     "output_type": "stream",
     "text": [
      "[False  True False  True False]\n"
     ]
    }
   ],
   "source": [
    "arr = np.array([1.0, np.nan, 3.5, np.nan, 5.2])\n",
    "result = np.isnan(arr)\n",
    "print(result) "
   ]
  },
  {
   "cell_type": "code",
   "execution_count": 57,
   "id": "5958fa2f-e562-41b2-b95c-c1abf3722529",
   "metadata": {},
   "outputs": [
    {
     "name": "stdout",
     "output_type": "stream",
     "text": [
      "nan\n",
      "[inf]\n"
     ]
    },
    {
     "name": "stderr",
     "output_type": "stream",
     "text": [
      "C:\\Users\\amira\\AppData\\Local\\Temp\\ipykernel_12400\\2389277247.py:1: RuntimeWarning: invalid value encountered in sqrt\n",
      "  print(np.sqrt(-1))\n",
      "C:\\Users\\amira\\AppData\\Local\\Temp\\ipykernel_12400\\2389277247.py:2: RuntimeWarning: divide by zero encountered in divide\n",
      "  print(np.array([10]) / 0)\n"
     ]
    }
   ],
   "source": [
    "print(np.sqrt(-1))\n",
    "print(np.array([10]) / 0)"
   ]
  },
  {
   "cell_type": "code",
   "execution_count": 262,
   "id": "7806d6a8-ed81-41a3-bab9-b4e6e1984e47",
   "metadata": {},
   "outputs": [
    {
     "name": "stdout",
     "output_type": "stream",
     "text": [
      "[1, 2, 3, 4, 5, 1, 2, 3, 4, 5, 1, 2, 3, 4, 5, 1, 2, 3, 4, 5, 1, 2, 3, 4, 5]\n",
      "[ 5 10 15 20 25]\n"
     ]
    }
   ],
   "source": [
    "l1 = [1, 2, 3, 4, 5]\n",
    "l2 = [6, 7, 8, 9, 0]\n",
    "\n",
    "a1 = np.array(l1)\n",
    "a2 = np.array(l2)\n",
    "\n",
    "print(l1 * 5)\n",
    "print(a1 * 5)\n"
   ]
  },
  {
   "cell_type": "code",
   "execution_count": 69,
   "id": "6f78a1c6-43e8-4c19-9040-eb93f13e36cc",
   "metadata": {},
   "outputs": [
    {
     "name": "stdout",
     "output_type": "stream",
     "text": [
      "[ 5 10 15 20 25]\n"
     ]
    },
    {
     "ename": "TypeError",
     "evalue": "can only concatenate list (not \"int\") to list",
     "output_type": "error",
     "traceback": [
      "\u001b[1;31m---------------------------------------------------------------------------\u001b[0m",
      "\u001b[1;31mTypeError\u001b[0m                                 Traceback (most recent call last)",
      "Cell \u001b[1;32mIn[69], line 2\u001b[0m\n\u001b[0;32m      1\u001b[0m \u001b[38;5;28mprint\u001b[39m(a1 \u001b[38;5;241m*\u001b[39m \u001b[38;5;241m5\u001b[39m)\n\u001b[1;32m----> 2\u001b[0m \u001b[38;5;28mprint\u001b[39m(l1 \u001b[38;5;241m+\u001b[39m \u001b[38;5;241m5\u001b[39m)\n",
      "\u001b[1;31mTypeError\u001b[0m: can only concatenate list (not \"int\") to list"
     ]
    }
   ],
   "source": [
    "print(a1 * 5)\n",
    "print(l1 + 5)"
   ]
  },
  {
   "cell_type": "code",
   "execution_count": 75,
   "id": "993c2325-9983-4d4a-baf9-7200870118d7",
   "metadata": {},
   "outputs": [
    {
     "name": "stdout",
     "output_type": "stream",
     "text": [
      "[1, 2, 3, 4, 5, 6, 7, 8, 9, 0]\n",
      "[ 7  9 11 13  5]\n"
     ]
    }
   ],
   "source": [
    "print(l1 + l2)\n",
    "print(a1 + a2)"
   ]
  },
  {
   "cell_type": "code",
   "execution_count": 79,
   "id": "5a57b130-4cfe-47fe-991c-bdd0eddf2b59",
   "metadata": {},
   "outputs": [
    {
     "name": "stdout",
     "output_type": "stream",
     "text": [
      "[0.16666667 0.28571429 0.375      0.44444444        inf]\n"
     ]
    },
    {
     "name": "stderr",
     "output_type": "stream",
     "text": [
      "C:\\Users\\amira\\AppData\\Local\\Temp\\ipykernel_12400\\4154995301.py:1: RuntimeWarning: divide by zero encountered in divide\n",
      "  print(a1 / a2)\n"
     ]
    },
    {
     "ename": "TypeError",
     "evalue": "unsupported operand type(s) for /: 'list' and 'list'",
     "output_type": "error",
     "traceback": [
      "\u001b[1;31m---------------------------------------------------------------------------\u001b[0m",
      "\u001b[1;31mTypeError\u001b[0m                                 Traceback (most recent call last)",
      "Cell \u001b[1;32mIn[79], line 2\u001b[0m\n\u001b[0;32m      1\u001b[0m \u001b[38;5;28mprint\u001b[39m(a1 \u001b[38;5;241m/\u001b[39m a2)\n\u001b[1;32m----> 2\u001b[0m \u001b[38;5;28mprint\u001b[39m(l1 \u001b[38;5;241m/\u001b[39m l2)\n",
      "\u001b[1;31mTypeError\u001b[0m: unsupported operand type(s) for /: 'list' and 'list'"
     ]
    }
   ],
   "source": [
    "print(a1 / a2)\n",
    "print(l1 / l2)\n"
   ]
  },
  {
   "cell_type": "code",
   "execution_count": 81,
   "id": "bb028d1d-2153-485e-9de8-6cef7b8b7e55",
   "metadata": {},
   "outputs": [
    {
     "name": "stdout",
     "output_type": "stream",
     "text": [
      "[-5 -5 -5 -5  5]\n"
     ]
    },
    {
     "ename": "TypeError",
     "evalue": "unsupported operand type(s) for -: 'list' and 'list'",
     "output_type": "error",
     "traceback": [
      "\u001b[1;31m---------------------------------------------------------------------------\u001b[0m",
      "\u001b[1;31mTypeError\u001b[0m                                 Traceback (most recent call last)",
      "Cell \u001b[1;32mIn[81], line 2\u001b[0m\n\u001b[0;32m      1\u001b[0m \u001b[38;5;28mprint\u001b[39m(a1 \u001b[38;5;241m-\u001b[39m a2)\n\u001b[1;32m----> 2\u001b[0m \u001b[38;5;28mprint\u001b[39m(l1 \u001b[38;5;241m-\u001b[39m l2)\n",
      "\u001b[1;31mTypeError\u001b[0m: unsupported operand type(s) for -: 'list' and 'list'"
     ]
    }
   ],
   "source": [
    "print(a1 - a2)\n",
    "print(l1 - l2)"
   ]
  },
  {
   "cell_type": "code",
   "execution_count": 85,
   "id": "a9a4c973-015d-4a5c-b7ba-4b0369263ad4",
   "metadata": {},
   "outputs": [
    {
     "name": "stdout",
     "output_type": "stream",
     "text": [
      "[[1 2 3]\n",
      " [2 4 6]]\n"
     ]
    }
   ],
   "source": [
    "a1 = np.array([1, 2, 3])\n",
    "a2 = np.array([[1],\n",
    "              [2]])\n",
    "\n",
    "print(a1 * a2)"
   ]
  },
  {
   "cell_type": "code",
   "execution_count": 89,
   "id": "a0921ac4-8367-4c35-a9be-2e8cf3b9a982",
   "metadata": {},
   "outputs": [
    {
     "ename": "ValueError",
     "evalue": "operands could not be broadcast together with shapes (3,) (2,2) ",
     "output_type": "error",
     "traceback": [
      "\u001b[1;31m---------------------------------------------------------------------------\u001b[0m",
      "\u001b[1;31mValueError\u001b[0m                                Traceback (most recent call last)",
      "Cell \u001b[1;32mIn[89], line 4\u001b[0m\n\u001b[0;32m      1\u001b[0m a1 \u001b[38;5;241m=\u001b[39m np\u001b[38;5;241m.\u001b[39marray([\u001b[38;5;241m1\u001b[39m, \u001b[38;5;241m2\u001b[39m, \u001b[38;5;241m3\u001b[39m])\n\u001b[0;32m      2\u001b[0m a2 \u001b[38;5;241m=\u001b[39m np\u001b[38;5;241m.\u001b[39marray([[\u001b[38;5;241m1\u001b[39m, \u001b[38;5;241m1\u001b[39m], [\u001b[38;5;241m2\u001b[39m,\u001b[38;5;241m1\u001b[39m]])\n\u001b[1;32m----> 4\u001b[0m \u001b[38;5;28mprint\u001b[39m(a1 \u001b[38;5;241m+\u001b[39m a2)\n",
      "\u001b[1;31mValueError\u001b[0m: operands could not be broadcast together with shapes (3,) (2,2) "
     ]
    }
   ],
   "source": [
    "a1 = np.array([1, 2, 3])\n",
    "a2 = np.array([[1, 1], [2,1]])\n",
    "\n",
    "print(a1 + a2)"
   ]
  },
  {
   "cell_type": "code",
   "execution_count": 91,
   "id": "65010b38-6b7c-4c32-86c7-fe67861e7020",
   "metadata": {},
   "outputs": [
    {
     "name": "stdout",
     "output_type": "stream",
     "text": [
      "[[0.         0.30103    0.47712125]\n",
      " [0.60205999 0.69897    0.77815125]]\n"
     ]
    }
   ],
   "source": [
    "a = np.array([[1, 2, 3], [4, 5,6 ]])\n",
    "print(np.log10(a))"
   ]
  },
  {
   "cell_type": "code",
   "execution_count": 110,
   "id": "6d9f623d-03bb-4ec4-90ac-70910f9daad1",
   "metadata": {},
   "outputs": [
    {
     "name": "stdout",
     "output_type": "stream",
     "text": [
      "[1 2 3 7 8 9]\n",
      "[1 2 3]\n",
      "[ 1 10 11 12  2  3]\n"
     ]
    }
   ],
   "source": [
    "a = np.array([1, 2, 3])\n",
    "print(np.append(a, [7, 8, 9]))\n",
    "print(a)\n",
    "a = np.insert(a, 1, [10, 11, 12])\n",
    "print(a)"
   ]
  },
  {
   "cell_type": "code",
   "execution_count": 114,
   "id": "d2b012b1-7641-4f71-ad8a-de33c0e97ace",
   "metadata": {},
   "outputs": [
    {
     "name": "stdout",
     "output_type": "stream",
     "text": [
      "[1 3 4 5 6]\n",
      "[1 2 3 5 6]\n",
      "[1 2 3 4 6]\n"
     ]
    }
   ],
   "source": [
    "a = np.array([[1, 2, 3],\n",
    "             [4, 5, 6]])\n",
    "print(np.delete(a, 1))\n",
    "print(np.delete(a, 3))\n",
    "print(np.delete(a, 4))"
   ]
  },
  {
   "cell_type": "code",
   "execution_count": 116,
   "id": "3e0963e9-e646-4ab3-889a-6e651ffdd4d7",
   "metadata": {},
   "outputs": [
    {
     "data": {
      "text/plain": [
       "array([[1, 2, 3],\n",
       "       [4, 5, 6]])"
      ]
     },
     "execution_count": 116,
     "metadata": {},
     "output_type": "execute_result"
    }
   ],
   "source": [
    "a"
   ]
  },
  {
   "cell_type": "code",
   "execution_count": 125,
   "id": "b4ca16fa-44b1-41d9-843a-48f0ae9aa721",
   "metadata": {},
   "outputs": [
    {
     "name": "stdout",
     "output_type": "stream",
     "text": [
      "[[1 2 3]]\n",
      "----------------------------------------------\n",
      "[[4 5 6]]\n",
      "----------------------------------------------\n",
      "[[1 3]\n",
      " [4 6]]\n"
     ]
    }
   ],
   "source": [
    "print(np.delete(a, 1, 0))\n",
    "print(\"----------------------------------------------\")\n",
    "print(np.delete(a, 0, 0))\n",
    "print(\"----------------------------------------------\")\n",
    "print(np.delete(a, 1, 1))"
   ]
  },
  {
   "cell_type": "code",
   "execution_count": 131,
   "id": "0bdaefad-83ce-49a7-914f-1ef745a98c7c",
   "metadata": {},
   "outputs": [
    {
     "name": "stdout",
     "output_type": "stream",
     "text": [
      "(2, 3)\n",
      "--------------------------------------------\n",
      "[[1 2]\n",
      " [3 4]\n",
      " [5 6]]\n"
     ]
    }
   ],
   "source": [
    "print(a.shape)\n",
    "print(\"--------------------------------------------\")\n",
    "print(a.reshape((3,2)))\n"
   ]
  },
  {
   "cell_type": "code",
   "execution_count": 133,
   "id": "19105465-72ed-489f-9e67-5391ee2ed28a",
   "metadata": {},
   "outputs": [
    {
     "name": "stdout",
     "output_type": "stream",
     "text": [
      "(4, 5)\n",
      "-------------------------------------\n",
      "[[ 1  2  3  4]\n",
      " [ 5  6  7  8]\n",
      " [ 9 10 11 12]\n",
      " [13 14 15 16]\n",
      " [17 18 19 20]]\n",
      "-------------------------------------\n",
      "[ 1  2  3  4  5  6  7  8  9 10 11 12 13 14 15 16 17 18 19 20]\n",
      "-------------------------------------\n",
      "[[ 1]\n",
      " [ 2]\n",
      " [ 3]\n",
      " [ 4]\n",
      " [ 5]\n",
      " [ 6]\n",
      " [ 7]\n",
      " [ 8]\n",
      " [ 9]\n",
      " [10]\n",
      " [11]\n",
      " [12]\n",
      " [13]\n",
      " [14]\n",
      " [15]\n",
      " [16]\n",
      " [17]\n",
      " [18]\n",
      " [19]\n",
      " [20]]\n",
      "-------------------------------------\n",
      "[[ 1  2  3  4  5  6  7  8  9 10]\n",
      " [11 12 13 14 15 16 17 18 19 20]]\n",
      "-------------------------------------\n",
      "[[[ 1  2  3  4  5]\n",
      "  [ 6  7  8  9 10]]\n",
      "\n",
      " [[11 12 13 14 15]\n",
      "  [16 17 18 19 20]]]\n",
      "-------------------------------------\n",
      "[[[ 1  2]\n",
      "  [ 3  4]\n",
      "  [ 5  6]\n",
      "  [ 7  8]\n",
      "  [ 9 10]]\n",
      "\n",
      " [[11 12]\n",
      "  [13 14]\n",
      "  [15 16]\n",
      "  [17 18]\n",
      "  [19 20]]]\n",
      "-------------------------------------\n",
      "[[ 1  2  3  4  5  6  7  8  9 10]\n",
      " [11 12 13 14 15 16 17 18 19 20]]\n"
     ]
    }
   ],
   "source": [
    "a = np.array([[1, 2, 3 , 4, 5],\n",
    "              [6, 7, 8, 9, 10],\n",
    "              [11, 12, 13, 14, 15],\n",
    "              [16, 17, 18, 19, 20]])\n",
    "print(a.shape)\n",
    "print(\"-------------------------------------\")\n",
    "print(a.reshape((5, 4)))\n",
    "print(\"-------------------------------------\")\n",
    "print(a.reshape((20,)))\n",
    "print(\"-------------------------------------\")\n",
    "print(a.reshape((20, 1)))\n",
    "print(\"-------------------------------------\")\n",
    "print(a.reshape((2, 10)))\n",
    "print(\"-------------------------------------\")\n",
    "print(a.reshape((2, 2, 5)))\n",
    "print(\"-------------------------------------\")\n",
    "print(a.reshape((2, 5, 2)))\n",
    "print(\"-------------------------------------\")\n",
    "print(a.reshape((2, 10)))"
   ]
  },
  {
   "cell_type": "code",
   "execution_count": 135,
   "id": "656e5ccf-4a99-4477-b01a-820f6bdc5000",
   "metadata": {},
   "outputs": [
    {
     "name": "stdout",
     "output_type": "stream",
     "text": [
      "None\n",
      "[[ 1  2]\n",
      " [ 3  4]\n",
      " [ 5  6]\n",
      " [ 7  8]\n",
      " [ 9 10]\n",
      " [11 12]\n",
      " [13 14]\n",
      " [15 16]\n",
      " [17 18]\n",
      " [19 20]]\n"
     ]
    }
   ],
   "source": [
    "print(a.resize(10, 2))\n",
    "print(a)"
   ]
  },
  {
   "cell_type": "code",
   "execution_count": 137,
   "id": "fc4b6037-fc3f-49f7-87cd-b6780de00db0",
   "metadata": {},
   "outputs": [
    {
     "name": "stdout",
     "output_type": "stream",
     "text": [
      "[ 1  2  3  4  5  6  7  8  9 10 11 12 13 14 15 16 17 18 19 20]\n",
      "[ 1  2  3  4  5  6  7  8  9 10 11 12 13 14 15 16 17 18 19 20]\n"
     ]
    }
   ],
   "source": [
    "print(a.flatten())\n",
    "print(a.ravel())"
   ]
  },
  {
   "cell_type": "code",
   "execution_count": 141,
   "id": "66078328-3271-4e0b-b346-707ac78fcdcb",
   "metadata": {},
   "outputs": [
    {
     "name": "stdout",
     "output_type": "stream",
     "text": [
      "[  1   2 100   4   5   6   7   8   9  10  11  12  13  14  15  16  17  18\n",
      "  19  20]\n",
      "-----------------------------\n",
      "[[ 1  2]\n",
      " [ 3  4]\n",
      " [ 5  6]\n",
      " [ 7  8]\n",
      " [ 9 10]\n",
      " [11 12]\n",
      " [13 14]\n",
      " [15 16]\n",
      " [17 18]\n",
      " [19 20]]\n"
     ]
    }
   ],
   "source": [
    "var1 = a.flatten()\n",
    "var1[2] = 100\n",
    "print(var1)\n",
    "print(\"-----------------------------\")\n",
    "print(a)"
   ]
  },
  {
   "cell_type": "code",
   "execution_count": 143,
   "id": "694a973c-8324-40de-a620-4e647f547c34",
   "metadata": {},
   "outputs": [
    {
     "name": "stdout",
     "output_type": "stream",
     "text": [
      "[  1   2 100   4   5   6   7   8   9  10  11  12  13  14  15  16  17  18\n",
      "  19  20]\n",
      "-----------------------------\n",
      "[[  1   2]\n",
      " [100   4]\n",
      " [  5   6]\n",
      " [  7   8]\n",
      " [  9  10]\n",
      " [ 11  12]\n",
      " [ 13  14]\n",
      " [ 15  16]\n",
      " [ 17  18]\n",
      " [ 19  20]]\n"
     ]
    }
   ],
   "source": [
    "var1 = a.ravel()\n",
    "var1[2] = 100\n",
    "print(var1)\n",
    "print(\"-----------------------------\")\n",
    "print(a)"
   ]
  },
  {
   "cell_type": "code",
   "execution_count": 266,
   "id": "478ad208-b11b-4551-a137-0fda0138c087",
   "metadata": {},
   "outputs": [
    {
     "name": "stdout",
     "output_type": "stream",
     "text": [
      "['1', '2', '3', '4', 'hello', '6', '7', '8', '9']\n"
     ]
    }
   ],
   "source": [
    "var = [v for v in a.flat]\n",
    "print(var)"
   ]
  },
  {
   "cell_type": "code",
   "execution_count": 154,
   "id": "6ea0978c-a68b-4354-98e2-677bc6b13115",
   "metadata": {},
   "outputs": [
    {
     "name": "stdout",
     "output_type": "stream",
     "text": [
      "[[ 1  6 11 16]\n",
      " [ 2  7 12 17]\n",
      " [ 3  8 13 18]\n",
      " [ 4  9 14 19]\n",
      " [ 5 10 15 20]]\n",
      "---------------------\n",
      "[[ 1  6 11 16]\n",
      " [ 2  7 12 17]\n",
      " [ 3  8 13 18]\n",
      " [ 4  9 14 19]\n",
      " [ 5 10 15 20]]\n"
     ]
    }
   ],
   "source": [
    "a = np.array([[1, 2, 3 , 4, 5],\n",
    "              [6, 7, 8, 9, 10],\n",
    "              [11, 12, 13, 14, 15],\n",
    "              [16, 17, 18, 19, 20]])\n",
    "\n",
    "\n",
    "print(a.transpose())\n",
    "print(\"---------------------\")\n",
    "print(a.T)"
   ]
  },
  {
   "cell_type": "code",
   "execution_count": 156,
   "id": "f33c67fb-3a6a-40ee-854f-0bf2b802bd37",
   "metadata": {},
   "outputs": [
    {
     "name": "stdout",
     "output_type": "stream",
     "text": [
      "[[ 1  6 11 16]\n",
      " [ 2  7 12 17]\n",
      " [ 3  8 13 18]\n",
      " [ 4  9 14 19]\n",
      " [ 5 10 15 20]]\n"
     ]
    }
   ],
   "source": [
    "print(a.swapaxes(0, 1))"
   ]
  },
  {
   "cell_type": "code",
   "execution_count": 160,
   "id": "9f50f4e5-aadf-4745-a1bc-a70e9a0636e6",
   "metadata": {},
   "outputs": [
    {
     "name": "stdout",
     "output_type": "stream",
     "text": [
      "[[ 1  2  3  4  5]\n",
      " [ 6  7  8  9 10]\n",
      " [11 12 13 14 15]\n",
      " [16 17 18 19 20]]\n"
     ]
    }
   ],
   "source": [
    "a1 = np.array([[1, 2, 3, 4, 5], \n",
    "               [6, 7, 8 , 9, 10]])\n",
    "\n",
    "a2 = np.array([[11, 12, 13, 14, 15], \n",
    "               [16, 17, 18, 19, 20]])\n",
    "\n",
    "a = np.concatenate((a1, a2), axis=0)\n",
    "print(a)"
   ]
  },
  {
   "cell_type": "code",
   "execution_count": 162,
   "id": "aca345a1-8c98-4380-94c0-0c488932ef68",
   "metadata": {},
   "outputs": [
    {
     "name": "stdout",
     "output_type": "stream",
     "text": [
      "[[ 1  2  3  4  5 11 12 13 14 15]\n",
      " [ 6  7  8  9 10 16 17 18 19 20]]\n"
     ]
    }
   ],
   "source": [
    "a = np.concatenate((a1, a2), axis=1)\n",
    "print(a)"
   ]
  },
  {
   "cell_type": "code",
   "execution_count": 168,
   "id": "6ca5c2ba-3961-4ad5-b9c7-b371f533e94f",
   "metadata": {},
   "outputs": [
    {
     "name": "stdout",
     "output_type": "stream",
     "text": [
      "[[[ 1  2  3  4  5]\n",
      "  [ 6  7  8  9 10]]\n",
      "\n",
      " [[11 12 13 14 15]\n",
      "  [16 17 18 19 20]]]\n",
      "------------------------------\n",
      "[[ 1  2  3  4  5 11 12 13 14 15]\n",
      " [ 6  7  8  9 10 16 17 18 19 20]]\n",
      "--------------------------------\n",
      "[[ 1  2  3  4  5]\n",
      " [ 6  7  8  9 10]\n",
      " [11 12 13 14 15]\n",
      " [16 17 18 19 20]]\n"
     ]
    }
   ],
   "source": [
    "a = np.stack((a1, a2))\n",
    "print(a)\n",
    "print(\"------------------------------\")\n",
    "a = np.hstack((a1, a2))\n",
    "print(a)\n",
    "print(\"--------------------------------\")\n",
    "a = np.vstack((a1, a2))\n",
    "print(a)\n"
   ]
  },
  {
   "cell_type": "code",
   "execution_count": 270,
   "id": "a46ce16a-8630-4b64-b6d1-4001cf56be16",
   "metadata": {},
   "outputs": [
    {
     "name": "stdout",
     "output_type": "stream",
     "text": [
      "[array([[ 1,  2,  3,  4,  5],\n",
      "       [ 6,  7,  8,  9, 10]]), array([[11, 12, 13, 14, 15],\n",
      "       [16, 17, 18, 19, 20]])]\n",
      "-------------------------------------------------------\n",
      "[array([[1, 2, 3, 4, 5]]), array([[ 6,  7,  8,  9, 10]]), array([[11, 12, 13, 14, 15]]), array([[16, 17, 18, 19, 20]])]\n"
     ]
    }
   ],
   "source": [
    "a = np.array([[1, 2, 3 , 4, 5],\n",
    "              [6, 7, 8, 9, 10],\n",
    "              [11, 12, 13, 14, 15],\n",
    "              [16, 17, 18, 19, 20]])\n",
    "\n",
    "print(np.split(a, 2, axis=0))\n",
    "print(\"-------------------------------------------------------\")\n",
    "print(np.split(a, 4, axis=0))"
   ]
  },
  {
   "cell_type": "code",
   "execution_count": 180,
   "id": "df044da5-7c03-4587-a34b-b19859193fa8",
   "metadata": {},
   "outputs": [
    {
     "name": "stdout",
     "output_type": "stream",
     "text": [
      "a.min :  1\n",
      "a.max :  20\n",
      "a.mean :  10.5\n",
      "a.std :  5.766281297335398\n",
      "a.sum :  210\n",
      "a.median :  10.5\n"
     ]
    }
   ],
   "source": [
    "a = np.array([[1, 2, 3 , 4, 5],\n",
    "              [6, 7, 8, 9, 10],\n",
    "              [11, 12, 13, 14, 15],\n",
    "              [16, 17, 18, 19, 20]])\n",
    "\n",
    "print(\"a.min : \", a.min())\n",
    "print(\"a.max : \", a.max())\n",
    "print(\"a.mean : \", a.mean())\n",
    "print(\"a.std : \", a.std())\n",
    "print(\"a.sum : \", a.sum())\n",
    "print(\"a.median : \", np.median(a))"
   ]
  },
  {
   "cell_type": "code",
   "execution_count": 186,
   "id": "91c835da-9ebb-4388-9229-3f7f6a942bae",
   "metadata": {},
   "outputs": [
    {
     "name": "stdout",
     "output_type": "stream",
     "text": [
      "97\n"
     ]
    }
   ],
   "source": [
    "number = np.random.randint(100)\n",
    "print(number)"
   ]
  },
  {
   "cell_type": "code",
   "execution_count": 192,
   "id": "5cdbf0fb-1c21-4900-9bf1-148aae88ca78",
   "metadata": {},
   "outputs": [
    {
     "name": "stdout",
     "output_type": "stream",
     "text": [
      "[[[72 53 74  1]\n",
      "  [36 30 45 72]\n",
      "  [29 57 30 18]]\n",
      "\n",
      " [[19 72  9 74]\n",
      "  [ 0 53 28 62]\n",
      "  [39  2 92 97]]]\n"
     ]
    }
   ],
   "source": [
    "numbers = np.random.randint(100, size=(2, 3, 4))\n",
    "print(numbers)"
   ]
  },
  {
   "cell_type": "code",
   "execution_count": 198,
   "id": "df1d76c3-4113-48a9-93bf-4ce6b8beb2d1",
   "metadata": {},
   "outputs": [
    {
     "name": "stdout",
     "output_type": "stream",
     "text": [
      "[[176.73945555 149.33561892 167.60663899 150.35827558 191.79395735\n",
      "  181.25029298 192.3906186  190.79284974 165.92167841 161.6785052 ]\n",
      " [166.34100642 181.04774909 204.49151918 180.88886031 192.97070589\n",
      "  177.47966688 171.37852922 160.16772868 178.02213864 169.0457449 ]\n",
      " [176.71168163 163.63996853 165.13964747 166.27698738 184.09430485\n",
      "  154.06614868 177.04158614 181.83746605 171.82308908 178.09680514]\n",
      " [174.69267277 168.73702385 196.79785665 155.97881045 197.69532805\n",
      "  174.6796758  173.24666243 146.9573939  168.90841166 133.04433734]\n",
      " [191.69470247 175.60677832 191.57172729 175.6430228  158.11584006\n",
      "  182.49468096 160.39764142 154.83890464 161.66493387 172.3347758 ]]\n"
     ]
    }
   ],
   "source": [
    "numbers = np.random.normal(loc=170, scale=15, size=(5,10))\n",
    "print(numbers)"
   ]
  },
  {
   "cell_type": "code",
   "execution_count": 200,
   "id": "8420a980-123e-4869-8992-6f93ffbbe076",
   "metadata": {},
   "outputs": [
    {
     "name": "stdout",
     "output_type": "stream",
     "text": [
      "[[30 40 10 20 50 30 50 50 40 40]\n",
      " [20 50 50 10 40 10 50 10 10 40]\n",
      " [20 10 30 20 10 50 20 40 40 10]\n",
      " [30 20 30 10 10 30 20 30 40 50]\n",
      " [50 30 50 50 30 50 30 40 10 20]]\n"
     ]
    }
   ],
   "source": [
    "numbers = np.random.choice([10, 20, 30, 40, 50], size=(5, 10))\n",
    "print(numbers)"
   ]
  },
  {
   "cell_type": "code",
   "execution_count": 206,
   "id": "72efeda8-e9e5-465b-b5c3-5c82938e160e",
   "metadata": {},
   "outputs": [
    {
     "name": "stdout",
     "output_type": "stream",
     "text": [
      "[[ 1  2  3  4  5]\n",
      " [ 6  7  8  9 10]\n",
      " [11 12 13 14 15]\n",
      " [16 17 18 19 20]]\n"
     ]
    }
   ],
   "source": [
    "a = np.array([[1, 2, 3 , 4, 5],\n",
    "              [6, 7, 8, 9, 10],\n",
    "              [11, 12, 13, 14, 15],\n",
    "              [16, 17, 18, 19, 20]])\n",
    "\n",
    "# np.save(\"array.npy\", a)\n",
    "a = np.load(\"array.npy\")\n",
    "print(a)"
   ]
  },
  {
   "cell_type": "code",
   "execution_count": 210,
   "id": "45340fae-7de2-40e9-8d94-eeb7343f1b4b",
   "metadata": {},
   "outputs": [
    {
     "name": "stdout",
     "output_type": "stream",
     "text": [
      "[[ 1.  2.  3.  4.  5.]\n",
      " [ 6.  7.  8.  9. 10.]\n",
      " [11. 12. 13. 14. 15.]\n",
      " [16. 17. 18. 19. 20.]]\n"
     ]
    }
   ],
   "source": [
    "# np.savetxt(\"myarray.csv\", a, delimiter=\",\")\n",
    "a = np.loadtxt(\"myarray.csv\", delimiter=\",\")\n",
    "print(a)"
   ]
  },
  {
   "cell_type": "code",
   "execution_count": null,
   "id": "6af1d148-047e-46d6-8b6e-fee1110af8d3",
   "metadata": {},
   "outputs": [],
   "source": []
  }
 ],
 "metadata": {
  "kernelspec": {
   "display_name": "Python 3 (ipykernel)",
   "language": "python",
   "name": "python3"
  },
  "language_info": {
   "codemirror_mode": {
    "name": "ipython",
    "version": 3
   },
   "file_extension": ".py",
   "mimetype": "text/x-python",
   "name": "python",
   "nbconvert_exporter": "python",
   "pygments_lexer": "ipython3",
   "version": "3.12.4"
  }
 },
 "nbformat": 4,
 "nbformat_minor": 5
}
